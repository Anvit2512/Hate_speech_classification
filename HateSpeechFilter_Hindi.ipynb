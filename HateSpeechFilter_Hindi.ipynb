{
 "cells": [
  {
   "cell_type": "code",
   "execution_count": 1,
   "metadata": {
    "colab": {
     "base_uri": "https://localhost:8080/"
    },
    "id": "j1kYNrWSU2r6",
    "outputId": "bd3465e9-430a-4c54-8ecb-858e7ed85be3"
   },
   "outputs": [
    {
     "name": "stdout",
     "output_type": "stream",
     "text": [
      "सरकर हमश स कसन क कमई क बढन क लए नईनई सकम लत रहत ह तक उन पर जयद आरथक बझ न पड\n"
     ]
    }
   ],
   "source": [
    "import re\n",
    "\n",
    "def preprocess_comment(comment):\n",
    "    # Remove emojis and special characters\n",
    "    comment = re.sub(r'[^\\w\\s]', '', comment)\n",
    "    # Convert to lowercase\n",
    "    comment = comment.lower()\n",
    "    return comment\n",
    "\n",
    "comment = \"सरकार हमेशा से किसानों की कमाई को बढ़ाने के लिए नई-नई स्कीमें लाती रहती है, ताकि उन पर ज्यादा आर्थिक बोझ न पड़े\"\n",
    "preprocessed_comment = preprocess_comment(comment)\n",
    "print(preprocessed_comment)"
   ]
  },
  {
   "cell_type": "code",
   "execution_count": 3,
   "metadata": {
    "colab": {
     "base_uri": "https://localhost:8080/"
    },
    "id": "HE1Apm2W5VeE",
    "outputId": "ef01209e-1dfe-457a-856e-ffee41529e3e"
   },
   "outputs": [],
   "source": [
    "import os\n",
    "import codecs\n",
    "\n",
    "def get_hindi_sw():\n",
    "    stopwords = set()\n",
    "    here = os.path.abspath(os.path.dirname(__file__))\n",
    "    # Use 'utf-8' encoding to avoid decoding issues\n",
    "    with codecs.open(os.path.join(here, 'HindiComments.csv'), 'r', encoding='utf-8', errors='ignore') as f:\n",
    "        for line in f:\n",
    "            stopwords.add(line.strip())\n",
    "    return\n"
   ]
  },
  {
   "cell_type": "code",
   "execution_count": 7,
   "metadata": {},
   "outputs": [
    {
     "name": "stdout",
     "output_type": "stream",
     "text": [
      "Collecting indic-nlp-library\n",
      "  Downloading indic_nlp_library-0.92-py3-none-any.whl.metadata (5.7 kB)\n",
      "Collecting sphinx-argparse (from indic-nlp-library)\n",
      "  Downloading sphinx_argparse-0.5.2-py3-none-any.whl.metadata (3.7 kB)\n",
      "Collecting sphinx-rtd-theme (from indic-nlp-library)\n",
      "  Using cached sphinx_rtd_theme-3.0.2-py2.py3-none-any.whl.metadata (4.4 kB)\n",
      "Collecting morfessor (from indic-nlp-library)\n",
      "  Downloading Morfessor-2.0.6-py3-none-any.whl.metadata (628 bytes)\n",
      "Requirement already satisfied: pandas in c:\\users\\dell\\anaconda3\\lib\\site-packages (from indic-nlp-library) (2.2.2)\n",
      "Requirement already satisfied: numpy in c:\\users\\dell\\anaconda3\\lib\\site-packages (from indic-nlp-library) (1.26.3)\n",
      "Requirement already satisfied: python-dateutil>=2.8.2 in c:\\users\\dell\\anaconda3\\lib\\site-packages (from pandas->indic-nlp-library) (2.9.0.post0)\n",
      "Requirement already satisfied: pytz>=2020.1 in c:\\users\\dell\\anaconda3\\lib\\site-packages (from pandas->indic-nlp-library) (2024.1)\n",
      "Requirement already satisfied: tzdata>=2022.7 in c:\\users\\dell\\anaconda3\\lib\\site-packages (from pandas->indic-nlp-library) (2023.3)\n",
      "Requirement already satisfied: sphinx>=5.1.0 in c:\\users\\dell\\anaconda3\\lib\\site-packages (from sphinx-argparse->indic-nlp-library) (7.3.7)\n",
      "Collecting docutils>=0.19 (from sphinx-argparse->indic-nlp-library)\n",
      "  Using cached docutils-0.21.2-py3-none-any.whl.metadata (2.8 kB)\n",
      "Collecting sphinxcontrib-jquery<5,>=4 (from sphinx-rtd-theme->indic-nlp-library)\n",
      "  Using cached sphinxcontrib_jquery-4.1-py2.py3-none-any.whl.metadata (2.6 kB)\n",
      "Requirement already satisfied: six>=1.5 in c:\\users\\dell\\anaconda3\\lib\\site-packages (from python-dateutil>=2.8.2->pandas->indic-nlp-library) (1.16.0)\n",
      "Requirement already satisfied: sphinxcontrib-applehelp in c:\\users\\dell\\anaconda3\\lib\\site-packages (from sphinx>=5.1.0->sphinx-argparse->indic-nlp-library) (1.0.2)\n",
      "Requirement already satisfied: sphinxcontrib-devhelp in c:\\users\\dell\\anaconda3\\lib\\site-packages (from sphinx>=5.1.0->sphinx-argparse->indic-nlp-library) (1.0.2)\n",
      "Requirement already satisfied: sphinxcontrib-jsmath in c:\\users\\dell\\anaconda3\\lib\\site-packages (from sphinx>=5.1.0->sphinx-argparse->indic-nlp-library) (1.0.1)\n",
      "Requirement already satisfied: sphinxcontrib-htmlhelp>=2.0.0 in c:\\users\\dell\\anaconda3\\lib\\site-packages (from sphinx>=5.1.0->sphinx-argparse->indic-nlp-library) (2.0.0)\n",
      "Requirement already satisfied: sphinxcontrib-serializinghtml>=1.1.9 in c:\\users\\dell\\anaconda3\\lib\\site-packages (from sphinx>=5.1.0->sphinx-argparse->indic-nlp-library) (1.1.10)\n",
      "Requirement already satisfied: sphinxcontrib-qthelp in c:\\users\\dell\\anaconda3\\lib\\site-packages (from sphinx>=5.1.0->sphinx-argparse->indic-nlp-library) (1.0.3)\n",
      "Requirement already satisfied: Jinja2>=3.0 in c:\\users\\dell\\anaconda3\\lib\\site-packages (from sphinx>=5.1.0->sphinx-argparse->indic-nlp-library) (3.1.4)\n",
      "Requirement already satisfied: Pygments>=2.14 in c:\\users\\dell\\anaconda3\\lib\\site-packages (from sphinx>=5.1.0->sphinx-argparse->indic-nlp-library) (2.15.1)\n",
      "Requirement already satisfied: snowballstemmer>=2.0 in c:\\users\\dell\\anaconda3\\lib\\site-packages (from sphinx>=5.1.0->sphinx-argparse->indic-nlp-library) (2.2.0)\n",
      "Requirement already satisfied: babel>=2.9 in c:\\users\\dell\\anaconda3\\lib\\site-packages (from sphinx>=5.1.0->sphinx-argparse->indic-nlp-library) (2.11.0)\n",
      "Requirement already satisfied: alabaster~=0.7.14 in c:\\users\\dell\\anaconda3\\lib\\site-packages (from sphinx>=5.1.0->sphinx-argparse->indic-nlp-library) (0.7.16)\n",
      "Requirement already satisfied: imagesize>=1.3 in c:\\users\\dell\\anaconda3\\lib\\site-packages (from sphinx>=5.1.0->sphinx-argparse->indic-nlp-library) (1.4.1)\n",
      "Requirement already satisfied: requests>=2.25.0 in c:\\users\\dell\\anaconda3\\lib\\site-packages (from sphinx>=5.1.0->sphinx-argparse->indic-nlp-library) (2.32.3)\n",
      "Requirement already satisfied: packaging>=21.0 in c:\\users\\dell\\anaconda3\\lib\\site-packages (from sphinx>=5.1.0->sphinx-argparse->indic-nlp-library) (23.2)\n",
      "Requirement already satisfied: colorama>=0.4.5 in c:\\users\\dell\\anaconda3\\lib\\site-packages (from sphinx>=5.1.0->sphinx-argparse->indic-nlp-library) (0.4.6)\n",
      "Requirement already satisfied: MarkupSafe>=2.0 in c:\\users\\dell\\anaconda3\\lib\\site-packages (from Jinja2>=3.0->sphinx>=5.1.0->sphinx-argparse->indic-nlp-library) (2.1.3)\n",
      "Requirement already satisfied: charset-normalizer<4,>=2 in c:\\users\\dell\\anaconda3\\lib\\site-packages (from requests>=2.25.0->sphinx>=5.1.0->sphinx-argparse->indic-nlp-library) (2.0.4)\n",
      "Requirement already satisfied: idna<4,>=2.5 in c:\\users\\dell\\anaconda3\\lib\\site-packages (from requests>=2.25.0->sphinx>=5.1.0->sphinx-argparse->indic-nlp-library) (3.7)\n",
      "Requirement already satisfied: urllib3<3,>=1.21.1 in c:\\users\\dell\\anaconda3\\lib\\site-packages (from requests>=2.25.0->sphinx>=5.1.0->sphinx-argparse->indic-nlp-library) (2.2.2)\n",
      "Requirement already satisfied: certifi>=2017.4.17 in c:\\users\\dell\\anaconda3\\lib\\site-packages (from requests>=2.25.0->sphinx>=5.1.0->sphinx-argparse->indic-nlp-library) (2024.12.14)\n",
      "Downloading indic_nlp_library-0.92-py3-none-any.whl (40 kB)\n",
      "   ---------------------------------------- 0.0/40.3 kB ? eta -:--:--\n",
      "   ------------------------------ --------- 30.7/40.3 kB ? eta -:--:--\n",
      "   ---------------------------------------- 40.3/40.3 kB 968.4 kB/s eta 0:00:00\n",
      "Downloading Morfessor-2.0.6-py3-none-any.whl (35 kB)\n",
      "Downloading sphinx_argparse-0.5.2-py3-none-any.whl (12 kB)\n",
      "Downloading sphinx_rtd_theme-3.0.2-py2.py3-none-any.whl (7.7 MB)\n",
      "   ---------------------------------------- 0.0/7.7 MB ? eta -:--:--\n",
      "   - -------------------------------------- 0.3/7.7 MB 5.7 MB/s eta 0:00:02\n",
      "   -- ------------------------------------- 0.5/7.7 MB 4.8 MB/s eta 0:00:02\n",
      "   ---- ----------------------------------- 0.9/7.7 MB 6.4 MB/s eta 0:00:02\n",
      "   ----- ---------------------------------- 1.0/7.7 MB 5.3 MB/s eta 0:00:02\n",
      "   ----- ---------------------------------- 1.1/7.7 MB 5.2 MB/s eta 0:00:02\n",
      "   ------ --------------------------------- 1.3/7.7 MB 5.0 MB/s eta 0:00:02\n",
      "   ------ --------------------------------- 1.3/7.7 MB 4.0 MB/s eta 0:00:02\n",
      "   ------- -------------------------------- 1.5/7.7 MB 4.1 MB/s eta 0:00:02\n",
      "   ---------- ----------------------------- 2.0/7.7 MB 4.5 MB/s eta 0:00:02\n",
      "   ------------ --------------------------- 2.5/7.7 MB 5.2 MB/s eta 0:00:01\n",
      "   -------------- ------------------------- 2.8/7.7 MB 5.4 MB/s eta 0:00:01\n",
      "   ---------------- ----------------------- 3.2/7.7 MB 5.7 MB/s eta 0:00:01\n",
      "   -------------------- ------------------- 4.0/7.7 MB 6.3 MB/s eta 0:00:01\n",
      "   ---------------------- ----------------- 4.3/7.7 MB 6.5 MB/s eta 0:00:01\n",
      "   ---------------------- ----------------- 4.3/7.7 MB 6.4 MB/s eta 0:00:01\n",
      "   ---------------------- ----------------- 4.3/7.7 MB 6.4 MB/s eta 0:00:01\n",
      "   ---------------------- ----------------- 4.3/7.7 MB 6.4 MB/s eta 0:00:01\n",
      "   ---------------------- ----------------- 4.3/7.7 MB 6.4 MB/s eta 0:00:01\n",
      "   ---------------------- ----------------- 4.3/7.7 MB 6.4 MB/s eta 0:00:01\n",
      "   ------------------------ --------------- 4.7/7.7 MB 5.0 MB/s eta 0:00:01\n",
      "   --------------------------- ------------ 5.3/7.7 MB 5.4 MB/s eta 0:00:01\n",
      "   ------------------------------ --------- 5.8/7.7 MB 5.6 MB/s eta 0:00:01\n",
      "   -------------------------------- ------- 6.2/7.7 MB 5.8 MB/s eta 0:00:01\n",
      "   --------------------------------- ------ 6.3/7.7 MB 5.6 MB/s eta 0:00:01\n",
      "   ---------------------------------- ----- 6.5/7.7 MB 5.6 MB/s eta 0:00:01\n",
      "   ---------------------------------- ----- 6.7/7.7 MB 5.6 MB/s eta 0:00:01\n",
      "   ---------------------------------- ----- 6.7/7.7 MB 5.6 MB/s eta 0:00:01\n",
      "   ----------------------------------- ---- 6.8/7.7 MB 5.2 MB/s eta 0:00:01\n",
      "   ----------------------------------- ---- 6.8/7.7 MB 5.2 MB/s eta 0:00:01\n",
      "   ------------------------------------- -- 7.1/7.7 MB 5.1 MB/s eta 0:00:01\n",
      "   ---------------------------------------  7.5/7.7 MB 5.1 MB/s eta 0:00:01\n",
      "   ---------------------------------------  7.6/7.7 MB 5.2 MB/s eta 0:00:01\n",
      "   ---------------------------------------  7.6/7.7 MB 5.2 MB/s eta 0:00:01\n",
      "   ---------------------------------------- 7.7/7.7 MB 4.9 MB/s eta 0:00:00\n",
      "Using cached docutils-0.21.2-py3-none-any.whl (587 kB)\n",
      "Using cached sphinxcontrib_jquery-4.1-py2.py3-none-any.whl (121 kB)\n",
      "Installing collected packages: morfessor, docutils, sphinxcontrib-jquery, sphinx-argparse, sphinx-rtd-theme, indic-nlp-library\n",
      "  Attempting uninstall: docutils\n",
      "    Found existing installation: docutils 0.18.1\n",
      "    Uninstalling docutils-0.18.1:\n",
      "      Successfully uninstalled docutils-0.18.1\n",
      "Successfully installed docutils-0.21.2 indic-nlp-library-0.92 morfessor-2.0.6 sphinx-argparse-0.5.2 sphinx-rtd-theme-3.0.2 sphinxcontrib-jquery-4.1\n",
      "Note: you may need to restart the kernel to use updated packages.\n"
     ]
    }
   ],
   "source": [
    "pip install indic-nlp-library"
   ]
  },
  {
   "cell_type": "code",
   "execution_count": 9,
   "metadata": {
    "colab": {
     "base_uri": "https://localhost:8080/"
    },
    "id": "Hie4kseINCLj",
    "outputId": "3235944b-6d71-40a2-f019-e8b805a4d3d7"
   },
   "outputs": [
    {
     "name": "stdout",
     "output_type": "stream",
     "text": [
      "सरकर हमश स कसन क कमई क बढन क लए नईनई सकम लत रहत ह जयद आरथक बझ पड\n",
      "\n",
      "\n"
     ]
    },
    {
     "name": "stderr",
     "output_type": "stream",
     "text": [
      "[nltk_data] Downloading package punkt to\n",
      "[nltk_data]     C:\\Users\\dell\\AppData\\Roaming\\nltk_data...\n",
      "[nltk_data]   Package punkt is already up-to-date!\n"
     ]
    }
   ],
   "source": [
    "import re\n",
    "import string\n",
    "import nltk\n",
    "from nltk.tokenize import word_tokenize\n",
    "from indicnlp.tokenize import indic_tokenize\n",
    "from indicnlp.normalize.indic_normalize import IndicNormalizerFactory\n",
    "from unidecode import unidecode\n",
    "\n",
    "factory = IndicNormalizerFactory()\n",
    "normalizer = factory.get_normalizer(\"hi\")\n",
    "\n",
    "# Hindi stopwords list\n",
    "hindi_stopwords = {\"अ\", \"अत\", \"अपना\", \"अपनी\", \"अपने\", \"अभी\", \"आ\", \"इस\", \"इसका\", \"इसकी\", \"इसके\", \"इसमें\", \"इसे\", \"उन\", \"उनका\", \"उनकी\", \"उनके\", \"उनको\", \"उस\", \"उसके\", \"उसी\", \"उसे\", \"एक\", \"एस\", \"ऐसे\", \"ओर\", \"और\", \"कई\", \"कर\", \"किसी\", \"की\", \"के\", \"को\", \"गया\", \"जैसे\", \"तक\", \"तो\", \"था\", \"थी\", \"थे\", \"दो\", \"न\", \"नहीं\", \"ने\", \"पर\", \"पहले\", \"पूरा\", \"पे\", \"फिर\", \"मगर\", \"मे\", \"में\", \"या\", \"यह\", \"यहाँ\", \"यही\", \"रहा\", \"रहे\", \"लिए\", \"लिया\", \"लेकिन\", \"व\", \"वगेरह\", \"वाले\", \"वह\", \"वहाँ\", \"वहीं\", \"वाली\", \"सकता\", \"सकते\", \"सबसे\", \"से\", \"सो\", \"संग\", \"हि\", \"ही\", \"हुआ\", \"हुई\", \"हुए\", \"हो\", \"होता\", \"होती\", \"होते\"}\n",
    "\n",
    "nltk.download('punkt')\n",
    "\n",
    "def preprocess_comment(comment):\n",
    "    # Remove emojis\n",
    "    comment = re.sub(r'[^\\w\\s]', '', comment)\n",
    "    # Normalize text\n",
    "    comment = normalizer.normalize(comment)\n",
    "    # Tokenization\n",
    "    tokens = indic_tokenize.trivial_tokenize(comment)\n",
    "    # Remove stopwords\n",
    "    tokens = [word for word in tokens if word not in hindi_stopwords]\n",
    "    # Remove punctuation and digits\n",
    "    tokens = [word for word in tokens if word not in string.punctuation and not word.isdigit()]\n",
    "    # Convert to lowercase\n",
    "    tokens = [word.lower() for word in tokens]\n",
    "    # Join tokens back to text\n",
    "    preprocessed_comment = ' '.join(tokens)\n",
    "    return preprocessed_comment\n",
    "\n",
    "comment = \"सरकार हमेशा से किसानों की कमाई को बढ़ाने के लिए नई-नई स्कीमें लाती रहती है, ताकि उन पर ज्यादा आर्थिक बोझ न पड़े\"\n",
    "preprocessed_comment = preprocess_comment(comment)\n",
    "print(preprocessed_comment)\n",
    "print('\\n')"
   ]
  },
  {
   "cell_type": "code",
   "execution_count": 21,
   "metadata": {},
   "outputs": [],
   "source": [
    "import pandas as pd\n",
    "\n",
    "def load_stopwords(file_path):\n",
    "    try:\n",
    "        # Load the CSV file into a DataFrame\n",
    "        df = pd.read_csv(file_path, encoding='utf-8')\n",
    "        \n",
    "        # Assuming the stopwords are in a column named 'stopwords'\n",
    "        # Adjust the column name if it's different\n",
    "        stopwords = set(df['stopword'].dropna().astype(str).str.strip())\n",
    "        \n",
    "        return stopwords\n",
    "    except Exception as e:\n",
    "        print(f\"Error loading stopwords: {e}\")\n",
    "        return set()\n",
    "\n"
   ]
  },
  {
   "cell_type": "code",
   "execution_count": 23,
   "metadata": {
    "colab": {
     "base_uri": "https://localhost:8080/"
    },
    "id": "LPmPUrXyxCy9",
    "outputId": "659fb485-4b2c-41d6-f376-bbba8867328f"
   },
   "outputs": [
    {
     "name": "stdout",
     "output_type": "stream",
     "text": [
      "सरकर हमश स कसन क कमई क बढन क लए नईनई सकम लत रहत ह तक जयद आरथक बझ न पड\n"
     ]
    },
    {
     "name": "stderr",
     "output_type": "stream",
     "text": [
      "[nltk_data] Downloading package punkt to\n",
      "[nltk_data]     C:\\Users\\dell\\AppData\\Roaming\\nltk_data...\n",
      "[nltk_data]   Package punkt is already up-to-date!\n"
     ]
    }
   ],
   "source": [
    "import re\n",
    "import string\n",
    "from indicnlp.tokenize import indic_tokenize\n",
    "from indicnlp.normalize.indic_normalize import IndicNormalizerFactory\n",
    "import nltk\n",
    "\n",
    "# Initialize Indic Normalizer\n",
    "factory = IndicNormalizerFactory()\n",
    "normalizer = factory.get_normalizer(\"hi\")\n",
    "\n",
    "# Download the NLTK tokenizer models if necessary\n",
    "nltk.download('punkt')\n",
    "\n",
    "def preprocess_comment(comment, stopwords):\n",
    "    # Remove emojis and special characters\n",
    "    comment = re.sub(r'[^\\w\\s]', '', comment)\n",
    "    \n",
    "    # Normalize text\n",
    "    comment = normalizer.normalize(comment)\n",
    "    \n",
    "    # Tokenization\n",
    "    tokens = indic_tokenize.trivial_tokenize(comment)\n",
    "    \n",
    "    # Remove stopwords\n",
    "    tokens = [word for word in tokens if word not in stopwords]\n",
    "    \n",
    "    # Remove punctuation and digits\n",
    "    tokens = [word for word in tokens if word not in string.punctuation and not word.isdigit()]\n",
    "    \n",
    "    # Convert to lowercase\n",
    "    tokens = [word.lower() for word in tokens]\n",
    "    \n",
    "    # Join tokens back to text\n",
    "    preprocessed_comment = ' '.join(tokens)\n",
    "    return preprocessed_comment\n",
    "\n",
    "# Path to your CSV file with stopwords\n",
    "#stopwords_file = 'HindiComments.csv'  # Update with the actual path if necessary\n",
    "stopwords_file = 'hindi_stopwords.csv'\n",
    "# Load stopwords from the CSV file\n",
    "stopwords = load_stopwords(stopwords_file)\n",
    "\n",
    "# Example comment\n",
    "comment = \"सरकार हमेशा से किसानों की कमाई को बढ़ाने के लिए नई-नई स्कीमें लाती रहती है, ताकि उन पर ज्यादा आर्थिक बोझ न पड़े\"\n",
    "\n",
    "# Preprocess the comment\n",
    "preprocessed_comment = preprocess_comment(comment, stopwords)\n",
    "print(preprocessed_comment)\n",
    "\n",
    "\n",
    "\n"
   ]
  },
  {
   "cell_type": "code",
   "execution_count": 25,
   "metadata": {},
   "outputs": [
    {
     "name": "stdout",
     "output_type": "stream",
     "text": [
      "Requirement already satisfied: scikit-learn in c:\\users\\dell\\anaconda3\\lib\\site-packages (1.3.2)\n",
      "Requirement already satisfied: numpy<2.0,>=1.17.3 in c:\\users\\dell\\anaconda3\\lib\\site-packages (from scikit-learn) (1.26.3)\n",
      "Requirement already satisfied: scipy>=1.5.0 in c:\\users\\dell\\anaconda3\\lib\\site-packages (from scikit-learn) (1.13.1)\n",
      "Requirement already satisfied: joblib>=1.1.1 in c:\\users\\dell\\anaconda3\\lib\\site-packages (from scikit-learn) (1.4.2)\n",
      "Requirement already satisfied: threadpoolctl>=2.0.0 in c:\\users\\dell\\anaconda3\\lib\\site-packages (from scikit-learn) (2.2.0)\n",
      "Note: you may need to restart the kernel to use updated packages.\n"
     ]
    }
   ],
   "source": [
    "pip install scikit-learn\n"
   ]
  },
  {
   "cell_type": "code",
   "execution_count": 27,
   "metadata": {},
   "outputs": [
    {
     "name": "stdout",
     "output_type": "stream",
     "text": [
      "Note: you may need to restart the kernel to use updated packages.\n"
     ]
    },
    {
     "name": "stderr",
     "output_type": "stream",
     "text": [
      "ERROR: Could not find a version that satisfies the requirement hindi_sw (from versions: none)\n",
      "ERROR: No matching distribution found for hindi_sw\n"
     ]
    }
   ],
   "source": [
    "#pip install hindi_sw \n"
   ]
  },
  {
   "cell_type": "code",
   "execution_count": 29,
   "metadata": {},
   "outputs": [
    {
     "name": "stdout",
     "output_type": "stream",
     "text": [
      "['और', 'का', 'के', 'की', 'को', 'कहाँ', 'कि', 'इस', 'है', 'हम', 'मैं', 'मेरे', 'पर', 'से', 'होगा', 'होता', 'होती', 'होने', 'इतना', 'अगर', 'अभी', 'अच्छा', 'और', 'बिना', 'भी', 'बाद', 'लेकिन', 'लिए', 'तो', 'उन', 'उस', 'उसके', 'जब', 'जैसे', 'नहीं', 'अब', 'केवल', 'सिर्फ', 'क्यों', 'हैं', 'वह', 'वे', 'यह', 'जो']\n"
     ]
    }
   ],
   "source": [
    "import pandas as pd\n",
    "\n",
    "# Read stopwords from the CSV file\n",
    "df = pd.read_csv('hindi_stopwords.csv')\n",
    "\n",
    "# Extract stopwords into a list\n",
    "hindi_stopwords = df['stopword'].tolist()\n",
    "\n",
    "print(hindi_stopwords)\n"
   ]
  },
  {
   "cell_type": "code",
   "execution_count": 31,
   "metadata": {
    "scrolled": true
   },
   "outputs": [
    {
     "name": "stdout",
     "output_type": "stream",
     "text": [
      "Requirement already satisfied: indic-nlp-library in c:\\users\\dell\\anaconda3\\lib\\site-packages (0.92)\n",
      "Requirement already satisfied: sphinx-argparse in c:\\users\\dell\\anaconda3\\lib\\site-packages (from indic-nlp-library) (0.5.2)\n",
      "Requirement already satisfied: sphinx-rtd-theme in c:\\users\\dell\\anaconda3\\lib\\site-packages (from indic-nlp-library) (3.0.2)\n",
      "Requirement already satisfied: morfessor in c:\\users\\dell\\anaconda3\\lib\\site-packages (from indic-nlp-library) (2.0.6)\n",
      "Requirement already satisfied: pandas in c:\\users\\dell\\anaconda3\\lib\\site-packages (from indic-nlp-library) (2.2.2)\n",
      "Requirement already satisfied: numpy in c:\\users\\dell\\anaconda3\\lib\\site-packages (from indic-nlp-library) (1.26.3)\n",
      "Requirement already satisfied: python-dateutil>=2.8.2 in c:\\users\\dell\\anaconda3\\lib\\site-packages (from pandas->indic-nlp-library) (2.9.0.post0)\n",
      "Requirement already satisfied: pytz>=2020.1 in c:\\users\\dell\\anaconda3\\lib\\site-packages (from pandas->indic-nlp-library) (2024.1)\n",
      "Requirement already satisfied: tzdata>=2022.7 in c:\\users\\dell\\anaconda3\\lib\\site-packages (from pandas->indic-nlp-library) (2023.3)\n",
      "Requirement already satisfied: sphinx>=5.1.0 in c:\\users\\dell\\anaconda3\\lib\\site-packages (from sphinx-argparse->indic-nlp-library) (7.3.7)\n",
      "Requirement already satisfied: docutils>=0.19 in c:\\users\\dell\\anaconda3\\lib\\site-packages (from sphinx-argparse->indic-nlp-library) (0.21.2)\n",
      "Requirement already satisfied: sphinxcontrib-jquery<5,>=4 in c:\\users\\dell\\anaconda3\\lib\\site-packages (from sphinx-rtd-theme->indic-nlp-library) (4.1)\n",
      "Requirement already satisfied: six>=1.5 in c:\\users\\dell\\anaconda3\\lib\\site-packages (from python-dateutil>=2.8.2->pandas->indic-nlp-library) (1.16.0)\n",
      "Requirement already satisfied: sphinxcontrib-applehelp in c:\\users\\dell\\anaconda3\\lib\\site-packages (from sphinx>=5.1.0->sphinx-argparse->indic-nlp-library) (1.0.2)\n",
      "Requirement already satisfied: sphinxcontrib-devhelp in c:\\users\\dell\\anaconda3\\lib\\site-packages (from sphinx>=5.1.0->sphinx-argparse->indic-nlp-library) (1.0.2)\n",
      "Requirement already satisfied: sphinxcontrib-jsmath in c:\\users\\dell\\anaconda3\\lib\\site-packages (from sphinx>=5.1.0->sphinx-argparse->indic-nlp-library) (1.0.1)\n",
      "Requirement already satisfied: sphinxcontrib-htmlhelp>=2.0.0 in c:\\users\\dell\\anaconda3\\lib\\site-packages (from sphinx>=5.1.0->sphinx-argparse->indic-nlp-library) (2.0.0)\n",
      "Requirement already satisfied: sphinxcontrib-serializinghtml>=1.1.9 in c:\\users\\dell\\anaconda3\\lib\\site-packages (from sphinx>=5.1.0->sphinx-argparse->indic-nlp-library) (1.1.10)\n",
      "Requirement already satisfied: sphinxcontrib-qthelp in c:\\users\\dell\\anaconda3\\lib\\site-packages (from sphinx>=5.1.0->sphinx-argparse->indic-nlp-library) (1.0.3)\n",
      "Requirement already satisfied: Jinja2>=3.0 in c:\\users\\dell\\anaconda3\\lib\\site-packages (from sphinx>=5.1.0->sphinx-argparse->indic-nlp-library) (3.1.4)\n",
      "Requirement already satisfied: Pygments>=2.14 in c:\\users\\dell\\anaconda3\\lib\\site-packages (from sphinx>=5.1.0->sphinx-argparse->indic-nlp-library) (2.15.1)\n",
      "Requirement already satisfied: snowballstemmer>=2.0 in c:\\users\\dell\\anaconda3\\lib\\site-packages (from sphinx>=5.1.0->sphinx-argparse->indic-nlp-library) (2.2.0)\n",
      "Requirement already satisfied: babel>=2.9 in c:\\users\\dell\\anaconda3\\lib\\site-packages (from sphinx>=5.1.0->sphinx-argparse->indic-nlp-library) (2.11.0)\n",
      "Requirement already satisfied: alabaster~=0.7.14 in c:\\users\\dell\\anaconda3\\lib\\site-packages (from sphinx>=5.1.0->sphinx-argparse->indic-nlp-library) (0.7.16)\n",
      "Requirement already satisfied: imagesize>=1.3 in c:\\users\\dell\\anaconda3\\lib\\site-packages (from sphinx>=5.1.0->sphinx-argparse->indic-nlp-library) (1.4.1)\n",
      "Requirement already satisfied: requests>=2.25.0 in c:\\users\\dell\\anaconda3\\lib\\site-packages (from sphinx>=5.1.0->sphinx-argparse->indic-nlp-library) (2.32.3)\n",
      "Requirement already satisfied: packaging>=21.0 in c:\\users\\dell\\anaconda3\\lib\\site-packages (from sphinx>=5.1.0->sphinx-argparse->indic-nlp-library) (23.2)\n",
      "Requirement already satisfied: colorama>=0.4.5 in c:\\users\\dell\\anaconda3\\lib\\site-packages (from sphinx>=5.1.0->sphinx-argparse->indic-nlp-library) (0.4.6)\n",
      "Requirement already satisfied: MarkupSafe>=2.0 in c:\\users\\dell\\anaconda3\\lib\\site-packages (from Jinja2>=3.0->sphinx>=5.1.0->sphinx-argparse->indic-nlp-library) (2.1.3)\n",
      "Requirement already satisfied: charset-normalizer<4,>=2 in c:\\users\\dell\\anaconda3\\lib\\site-packages (from requests>=2.25.0->sphinx>=5.1.0->sphinx-argparse->indic-nlp-library) (2.0.4)\n",
      "Requirement already satisfied: idna<4,>=2.5 in c:\\users\\dell\\anaconda3\\lib\\site-packages (from requests>=2.25.0->sphinx>=5.1.0->sphinx-argparse->indic-nlp-library) (3.7)\n",
      "Requirement already satisfied: urllib3<3,>=1.21.1 in c:\\users\\dell\\anaconda3\\lib\\site-packages (from requests>=2.25.0->sphinx>=5.1.0->sphinx-argparse->indic-nlp-library) (2.2.2)\n",
      "Requirement already satisfied: certifi>=2017.4.17 in c:\\users\\dell\\anaconda3\\lib\\site-packages (from requests>=2.25.0->sphinx>=5.1.0->sphinx-argparse->indic-nlp-library) (2024.12.14)\n",
      "Note: you may need to restart the kernel to use updated packages.\n"
     ]
    }
   ],
   "source": [
    "pip install indic-nlp-library\n"
   ]
  },
  {
   "cell_type": "code",
   "execution_count": 33,
   "metadata": {},
   "outputs": [
    {
     "name": "stdout",
     "output_type": "stream",
     "text": [
      "Note: you may need to restart the kernel to use updated packages.\n"
     ]
    },
    {
     "name": "stderr",
     "output_type": "stream",
     "text": [
      "ERROR: Could not find a version that satisfies the requirement indic-nlp-utils (from versions: none)\n",
      "ERROR: No matching distribution found for indic-nlp-utils\n"
     ]
    }
   ],
   "source": [
    "#pip install indic-nlp-utils\n"
   ]
  },
  {
   "cell_type": "code",
   "execution_count": 35,
   "metadata": {
    "colab": {
     "base_uri": "https://localhost:8080/"
    },
    "id": "a4chRUYa_Sfw",
    "outputId": "27ac188b-89c8-4dd5-8886-5a40886ea0b2"
   },
   "outputs": [
    {
     "name": "stdout",
     "output_type": "stream",
     "text": [
      "Pre-processing done.\n"
     ]
    }
   ],
   "source": [
    "import pandas as pd\n",
    "import re\n",
    "import string\n",
    "\n",
    "def preprocess_text(text):\n",
    "    # Remove emojis\n",
    "    text = re.sub(r'[^\\w\\s]', '', text)\n",
    "    # Remove links starting with 'https'\n",
    "    text = re.sub(r'https?:\\/\\/.*[\\r\\n]*', '', text)\n",
    "    # Remove English words (assuming only Hindi text is desired)\n",
    "    text = re.sub(r'[a-zA-Z]+', '', text)\n",
    "    # Remove numeric values\n",
    "    text = re.sub(r'\\d+', '', text)\n",
    "    # Convert to lowercase\n",
    "    text = text.lower()\n",
    "    # Tokenization (simple whitespace-based)\n",
    "    tokens = text.split()\n",
    "\n",
    "    # Get Hindi stopwords from your own list\n",
    "    # Example stopwords (replace with actual list)\n",
    "    stopwords = [\"और\", \"का\", \"के\", \"की\", \"को\", \"है\", \"हम\"]\n",
    "\n",
    "    # Remove stopwords\n",
    "    tokens = [word for word in tokens if word not in stopwords]\n",
    "    # Remove punctuation\n",
    "    tokens = [word for word in tokens if word not in string.punctuation]\n",
    "    # Join tokens back to text\n",
    "    preprocessed_text = ' '.join(tokens)\n",
    "    return preprocessed_text\n",
    "\n",
    "sentiment_mapping = {\n",
    "    'defamation': 1,\n",
    "    'fake': 2,\n",
    "    'hate': 3,\n",
    "    'non-hostile': 4,\n",
    "    'offensive': 5,\n",
    "}\n",
    "\n",
    "# Load the CSV file\n",
    "try:\n",
    "    df = pd.read_csv(\"HindiComments.csv\")\n",
    "except FileNotFoundError:\n",
    "    print(\"The file HindiComments.csv was not found.\")\n",
    "    exit()\n",
    "\n",
    "# Apply preprocessing to the 'Post' column\n",
    "df['Preprocessed_Post'] = df['Post'].apply(preprocess_text)\n",
    "\n",
    "# Remove empty or NaN sentiments and replace them with \"none\"\n",
    "df['Labels Set'] = df['Labels Set'].fillna(\"none\")\n",
    "\n",
    "# Label all comments with two sentiments together as 3\n",
    "df['Label'] = df['Labels Set'].apply(lambda x: 3 if ',' in x else sentiment_mapping.get(x, 3))\n",
    "\n",
    "# Save the preprocessed data to a new CSV file\n",
    "df.to_csv(\"Preprocessed_HindiComments.csv\", index=False)\n",
    "\n",
    "print(\"Pre-processing done.\")\n",
    "\n",
    " \n",
    "\n",
    " \n",
    "\n",
    "\n",
    "    "
   ]
  },
  {
   "cell_type": "code",
   "execution_count": 37,
   "metadata": {
    "colab": {
     "base_uri": "https://localhost:8080/"
    },
    "id": "gWFG3Ct9Ynvl",
    "outputId": "aa0a8db5-f300-4df8-da24-8c4460b8c6c7"
   },
   "outputs": [
    {
     "name": "stdout",
     "output_type": "stream",
     "text": [
      "   Unique ID                                               Post  \\\n",
      "0          1  मेरे देश के हिन्दु बहुत निराले है। कुछ तो पक्क...   \n",
      "1          2  सरकार हमेशा से किसानों की कमाई को बढ़ाने के लि...   \n",
      "2          3  सुशांत ने जो बिजनेस डील 9 जून को की थी, वो डील...   \n",
      "3          4  @prabhav218 साले जेएनयू छाप कमिने लोग हिन्दुओं...   \n",
      "4          5  #unlock4guidelines - अनलॉक-4 के लिए गाइडलाइन्स...   \n",
      "\n",
      "             Labels Set                                  Preprocessed_Post  \\\n",
      "0        hate,offensive  मर दश क हनद बहत नरल ह कछ त पकक रम भकत ह कछ बबर...   \n",
      "1           non-hostile  सरकर हमश स कसन क कमई क बढन क लए नईनई सकम लत रह...   \n",
      "2           non-hostile  सशत न ज बजनस डल जन क क थ व डल दपश क सशत क हतय ...   \n",
      "3  defamation,offensive  सल जएनय छप कमन लग हनदओ क यह कहत ह क सवधन सबक ब...   \n",
      "4           non-hostile  अनलक क लए गइडलइनस जर सतबर स दशभर म मटर सव शर ह...   \n",
      "\n",
      "   Label  \n",
      "0      3  \n",
      "1      4  \n",
      "2      4  \n",
      "3      3  \n",
      "4      4  \n"
     ]
    }
   ],
   "source": [
    "# Check the first few rows of the dataset\n",
    "print(df.head())\n",
    "\n",
    "# Split the dataset into features (X) and labels (y)\n",
    "X = df['Preprocessed_Post']\n",
    "y = df['Label']\n"
   ]
  },
  {
   "cell_type": "code",
   "execution_count": 39,
   "metadata": {
    "colab": {
     "base_uri": "https://localhost:8080/"
    },
    "id": "599dqPE6Ku6p",
    "outputId": "bf0a2cb6-b681-4cfb-ce2a-28abaf4fe772"
   },
   "outputs": [
    {
     "name": "stdout",
     "output_type": "stream",
     "text": [
      "Label Counts:\n",
      "Label\n",
      "4    4358\n",
      "2    1442\n",
      "3    1376\n",
      "5     579\n",
      "1     437\n",
      "Name: count, dtype: int64\n"
     ]
    }
   ],
   "source": [
    "# Count the occurrences of each label\n",
    "label_counts = df['Label'].value_counts()\n",
    "\n",
    "# Print the label counts\n",
    "print(\"Label Counts:\")\n",
    "print(label_counts)"
   ]
  },
  {
   "cell_type": "code",
   "execution_count": 41,
   "metadata": {},
   "outputs": [
    {
     "name": "stdout",
     "output_type": "stream",
     "text": [
      "Requirement already satisfied: matplotlib in c:\\users\\dell\\anaconda3\\lib\\site-packages (3.8.4)\n",
      "Requirement already satisfied: contourpy>=1.0.1 in c:\\users\\dell\\anaconda3\\lib\\site-packages (from matplotlib) (1.2.0)\n",
      "Requirement already satisfied: cycler>=0.10 in c:\\users\\dell\\anaconda3\\lib\\site-packages (from matplotlib) (0.11.0)\n",
      "Requirement already satisfied: fonttools>=4.22.0 in c:\\users\\dell\\anaconda3\\lib\\site-packages (from matplotlib) (4.51.0)\n",
      "Requirement already satisfied: kiwisolver>=1.3.1 in c:\\users\\dell\\anaconda3\\lib\\site-packages (from matplotlib) (1.4.4)\n",
      "Requirement already satisfied: numpy>=1.21 in c:\\users\\dell\\anaconda3\\lib\\site-packages (from matplotlib) (1.26.3)\n",
      "Requirement already satisfied: packaging>=20.0 in c:\\users\\dell\\anaconda3\\lib\\site-packages (from matplotlib) (23.2)\n",
      "Requirement already satisfied: pillow>=8 in c:\\users\\dell\\anaconda3\\lib\\site-packages (from matplotlib) (10.3.0)\n",
      "Requirement already satisfied: pyparsing>=2.3.1 in c:\\users\\dell\\anaconda3\\lib\\site-packages (from matplotlib) (3.0.9)\n",
      "Requirement already satisfied: python-dateutil>=2.7 in c:\\users\\dell\\anaconda3\\lib\\site-packages (from matplotlib) (2.9.0.post0)\n",
      "Requirement already satisfied: six>=1.5 in c:\\users\\dell\\anaconda3\\lib\\site-packages (from python-dateutil>=2.7->matplotlib) (1.16.0)\n",
      "Note: you may need to restart the kernel to use updated packages.\n"
     ]
    }
   ],
   "source": [
    "pip install matplotlib "
   ]
  },
  {
   "cell_type": "code",
   "execution_count": 43,
   "metadata": {},
   "outputs": [
    {
     "name": "stdout",
     "output_type": "stream",
     "text": [
      "Requirement already satisfied: seaborn in c:\\users\\dell\\anaconda3\\lib\\site-packages (0.13.2)\n",
      "Requirement already satisfied: numpy!=1.24.0,>=1.20 in c:\\users\\dell\\anaconda3\\lib\\site-packages (from seaborn) (1.26.3)\n",
      "Requirement already satisfied: pandas>=1.2 in c:\\users\\dell\\anaconda3\\lib\\site-packages (from seaborn) (2.2.2)\n",
      "Requirement already satisfied: matplotlib!=3.6.1,>=3.4 in c:\\users\\dell\\anaconda3\\lib\\site-packages (from seaborn) (3.8.4)\n",
      "Requirement already satisfied: contourpy>=1.0.1 in c:\\users\\dell\\anaconda3\\lib\\site-packages (from matplotlib!=3.6.1,>=3.4->seaborn) (1.2.0)\n",
      "Requirement already satisfied: cycler>=0.10 in c:\\users\\dell\\anaconda3\\lib\\site-packages (from matplotlib!=3.6.1,>=3.4->seaborn) (0.11.0)\n",
      "Requirement already satisfied: fonttools>=4.22.0 in c:\\users\\dell\\anaconda3\\lib\\site-packages (from matplotlib!=3.6.1,>=3.4->seaborn) (4.51.0)\n",
      "Requirement already satisfied: kiwisolver>=1.3.1 in c:\\users\\dell\\anaconda3\\lib\\site-packages (from matplotlib!=3.6.1,>=3.4->seaborn) (1.4.4)\n",
      "Requirement already satisfied: packaging>=20.0 in c:\\users\\dell\\anaconda3\\lib\\site-packages (from matplotlib!=3.6.1,>=3.4->seaborn) (23.2)\n",
      "Requirement already satisfied: pillow>=8 in c:\\users\\dell\\anaconda3\\lib\\site-packages (from matplotlib!=3.6.1,>=3.4->seaborn) (10.3.0)\n",
      "Requirement already satisfied: pyparsing>=2.3.1 in c:\\users\\dell\\anaconda3\\lib\\site-packages (from matplotlib!=3.6.1,>=3.4->seaborn) (3.0.9)\n",
      "Requirement already satisfied: python-dateutil>=2.7 in c:\\users\\dell\\anaconda3\\lib\\site-packages (from matplotlib!=3.6.1,>=3.4->seaborn) (2.9.0.post0)\n",
      "Requirement already satisfied: pytz>=2020.1 in c:\\users\\dell\\anaconda3\\lib\\site-packages (from pandas>=1.2->seaborn) (2024.1)\n",
      "Requirement already satisfied: tzdata>=2022.7 in c:\\users\\dell\\anaconda3\\lib\\site-packages (from pandas>=1.2->seaborn) (2023.3)\n",
      "Requirement already satisfied: six>=1.5 in c:\\users\\dell\\anaconda3\\lib\\site-packages (from python-dateutil>=2.7->matplotlib!=3.6.1,>=3.4->seaborn) (1.16.0)\n",
      "Note: you may need to restart the kernel to use updated packages.\n"
     ]
    }
   ],
   "source": [
    "pip install seaborn"
   ]
  },
  {
   "cell_type": "code",
   "execution_count": 45,
   "metadata": {
    "colab": {
     "base_uri": "https://localhost:8080/",
     "height": 564
    },
    "id": "q7orZNspyp6L",
    "outputId": "95d018c3-ff63-44df-e9e2-aa3a04873b60"
   },
   "outputs": [
    {
     "data": {
      "image/png": "[encoded data removed]",
      "text/plain": [
       "<Figure size 800x600 with 1 Axes>"
      ]
     },
     "metadata": {},
     "output_type": "display_data"
    }
   ],
   "source": [
    "import matplotlib.pyplot as plt\n",
    "import seaborn as sns\n",
    "\n",
    "#Class Distribution\n",
    "plt.figure(figsize=(8, 6))\n",
    "sns.countplot(data=df, x='Label')\n",
    "plt.title('Class Distribution')\n",
    "plt.xlabel('Label')\n",
    "plt.ylabel('Count')\n",
    "plt.show()"
   ]
  },
  {
   "cell_type": "code",
   "execution_count": 47,
   "metadata": {
    "id": "P5Np90UCc4F4"
   },
   "outputs": [
    {
     "name": "stdout",
     "output_type": "stream",
     "text": [
      "              precision    recall  f1-score   support\n",
      "\n",
      "           1       0.80      0.04      0.08        91\n",
      "           2       0.64      0.41      0.50       292\n",
      "           3       0.52      0.51      0.52       284\n",
      "           4       0.72      0.96      0.82       853\n",
      "           5       0.41      0.09      0.15       119\n",
      "\n",
      "    accuracy                           0.67      1639\n",
      "   macro avg       0.62      0.40      0.41      1639\n",
      "weighted avg       0.65      0.67      0.62      1639\n",
      "\n"
     ]
    }
   ],
   "source": [
    "import pandas as pd\n",
    "from sklearn.feature_extraction.text import TfidfVectorizer\n",
    "from sklearn.model_selection import train_test_split\n",
    "from sklearn.linear_model import LogisticRegression\n",
    "from sklearn.metrics import classification_report\n",
    "\n",
    "# Load the CSV file\n",
    "data = pd.read_csv('Preprocessed_HindiComments.csv')\n",
    "\n",
    "# Check for missing values and replace if necessary\n",
    "data['Preprocessed_Post'] = data['Preprocessed_Post'].fillna(\"\")\n",
    "\n",
    "# Feature Extraction: TF-IDF\n",
    "vectorizer_tfidf = TfidfVectorizer()\n",
    "X_tfidf = vectorizer_tfidf.fit_transform(data['Preprocessed_Post'])\n",
    "y = data['Label']\n",
    "\n",
    "# Split data into train and test sets\n",
    "X_train_tfidf, X_test_tfidf, y_train, y_test = train_test_split(X_tfidf, y, test_size=0.2, random_state=42)\n",
    "\n",
    "# Initialize and train the model\n",
    "model = LogisticRegression(max_iter=1000)\n",
    "model.fit(X_train_tfidf, y_train)\n",
    "\n",
    "# Predict on the test set\n",
    "y_pred = model.predict(X_test_tfidf)\n",
    "\n",
    "# Print classification report\n",
    "print(classification_report(y_test, y_pred))\n"
   ]
  },
  {
   "cell_type": "code",
   "execution_count": 49,
   "metadata": {
    "colab": {
     "base_uri": "https://localhost:8080/"
    },
    "id": "UXHzRLgfc_2n",
    "outputId": "bf5b99b7-9ed3-440a-8777-44d3293fdced"
   },
   "outputs": [
    {
     "name": "stdout",
     "output_type": "stream",
     "text": [
      "Model Evaluation Results:\n",
      "Logistic Regression: Accuracy = 0.6705\n",
      "Multinomial Naive Bayes: Accuracy = 0.5827\n",
      "Support Vector Machine: Accuracy = 0.6730\n",
      "Random Forest: Accuracy = 0.6339\n",
      "Gradient Boosting: Accuracy = 0.6211\n"
     ]
    }
   ],
   "source": [
    "from sklearn.linear_model import LogisticRegression\n",
    "from sklearn.naive_bayes import MultinomialNB\n",
    "from sklearn.svm import SVC\n",
    "from sklearn.ensemble import RandomForestClassifier, GradientBoostingClassifier\n",
    "from sklearn.metrics import accuracy_score\n",
    "\n",
    "classifiers = {\n",
    "    \"Logistic Regression\": LogisticRegression(max_iter=1000),\n",
    "    \"Multinomial Naive Bayes\": MultinomialNB(),\n",
    "    \"Support Vector Machine\": SVC(),\n",
    "    \"Random Forest\": RandomForestClassifier(),\n",
    "    \"Gradient Boosting\": GradientBoostingClassifier()\n",
    "}\n",
    "\n",
    "# Train and evaluate each classifier\n",
    "results = {}\n",
    "for name, clf in classifiers.items():\n",
    "    clf.fit(X_train_tfidf, y_train)\n",
    "    y_pred = clf.predict(X_test_tfidf)\n",
    "    accuracy = accuracy_score(y_test, y_pred)\n",
    "    results[name] = accuracy\n",
    "\n",
    "# Print results\n",
    "print(\"Model Evaluation Results:\")\n",
    "for name, acc in results.items():\n",
    "    print(f\"{name}: Accuracy = {acc:.4f}\")\n"
   ]
  },
  {
   "cell_type": "code",
   "execution_count": 51,
   "metadata": {
    "colab": {
     "base_uri": "https://localhost:8080/",
     "height": 681
    },
    "id": "JhJpUAqbzVj1",
    "outputId": "3bda3b64-bc1f-4b36-d7e3-7389c1012c02"
   },
   "outputs": [
    {
     "data": {
      "image/png": "[encoded data removed]",
      "text/plain": [
       "<Figure size 1000x600 with 1 Axes>"
      ]
     },
     "metadata": {},
     "output_type": "display_data"
    }
   ],
   "source": [
    "data = {\n",
    "    'Model': ['Logistic Regression', 'Multinomial Naive Bayes', 'Support Vector Machine', 'Random Forest', 'Gradient Boosting'],\n",
    "    'Accuracy': [0.6602, 0.5869, 0.6699, 0.6351, 0.6181]\n",
    "}\n",
    "\n",
    "df = pd.DataFrame(data)\n",
    "\n",
    "bar_width = 0.35\n",
    "\n",
    "r = range(len(df))\n",
    "\n",
    "plt.figure(figsize=(10, 6))\n",
    "\n",
    "plt.bar(r, df['Accuracy'], color='blue', width=bar_width, edgecolor='grey', label='Accuracy')\n",
    "\n",
    "plt.xlabel('Model')\n",
    "plt.ylabel('Accuracy')\n",
    "plt.title('Model Evaluation Results: Accuracy')\n",
    "plt.xticks([r for r in range(len(df))], df['Model'], rotation=45)\n",
    "plt.legend()\n",
    "\n",
    "plt.show()"
   ]
  },
  {
   "cell_type": "code",
   "execution_count": 53,
   "metadata": {
    "colab": {
     "base_uri": "https://localhost:8080/"
    },
    "id": "b0OZMb4ee76c",
    "outputId": "1aed13df-2439-4c6b-8144-66c6c7ba3427"
   },
   "outputs": [
    {
     "name": "stdout",
     "output_type": "stream",
     "text": [
      "Best Parameters: {'C': 10, 'max_iter': 2000, 'solver': 'saga'}\n",
      "Best Score: 0.7113035361357509\n",
      "Best Score: 0.7113035361357509\n"
     ]
    }
   ],
   "source": [
    "import pandas as pd\n",
    "from sklearn.feature_extraction.text import TfidfVectorizer\n",
    "from sklearn.model_selection import GridSearchCV\n",
    "from sklearn.linear_model import LogisticRegression\n",
    "\n",
    "# Load the preprocessed data\n",
    "df = pd.read_csv(\"Preprocessed_HindiComments.csv\")\n",
    "\n",
    "# Handle missing values\n",
    "df['Preprocessed_Post'] = df['Preprocessed_Post'].fillna(\"\")\n",
    "\n",
    "# Split the data into features and labels\n",
    "X = df['Preprocessed_Post']\n",
    "y = df['Label']\n",
    "\n",
    "# Initialize TF-IDF Vectorizer\n",
    "tfidf_vectorizer = TfidfVectorizer()\n",
    "\n",
    "# Fit and transform the text data\n",
    "X_tfidf = tfidf_vectorizer.fit_transform(X)\n",
    "\n",
    "# Define the parameter grid for logistic regression\n",
    "param_grid_lr = {\n",
    "    'C': [0.001, 0.01, 0.1, 1, 10],\n",
    "    'max_iter': [1000, 2000, 3000],\n",
    "    'solver': ['lbfgs', 'liblinear', 'sag', 'saga']\n",
    "}\n",
    "\n",
    "# Perform grid search cross-validation for Logistic Regression\n",
    "grid_search_lr = GridSearchCV(LogisticRegression(), param_grid_lr, cv=5, scoring='accuracy')\n",
    "grid_search_lr.fit(X_tfidf, y)\n",
    "\n",
    "# Get best hyperparameters and best score for Logistic Regression\n",
    "best_params_lr = grid_search_lr.best_params_\n",
    "best_score_lr = grid_search_lr.best_score_\n",
    "\n",
    "print(\"Best Parameters:\", best_params_lr)\n",
    "print(\"Best Score:\", best_score_lr)\n",
    "\n",
    "print(\"Best Score:\", best_score_lr)\n"
   ]
  },
  {
   "cell_type": "code",
   "execution_count": 55,
   "metadata": {
    "scrolled": true
   },
   "outputs": [
    {
     "name": "stdout",
     "output_type": "stream",
     "text": [
      "Requirement already satisfied: indic-nlp-library in c:\\users\\dell\\anaconda3\\lib\\site-packages (0.92)\n",
      "Requirement already satisfied: sphinx-argparse in c:\\users\\dell\\anaconda3\\lib\\site-packages (from indic-nlp-library) (0.5.2)\n",
      "Requirement already satisfied: sphinx-rtd-theme in c:\\users\\dell\\anaconda3\\lib\\site-packages (from indic-nlp-library) (3.0.2)\n",
      "Requirement already satisfied: morfessor in c:\\users\\dell\\anaconda3\\lib\\site-packages (from indic-nlp-library) (2.0.6)\n",
      "Requirement already satisfied: pandas in c:\\users\\dell\\anaconda3\\lib\\site-packages (from indic-nlp-library) (2.2.2)\n",
      "Requirement already satisfied: numpy in c:\\users\\dell\\anaconda3\\lib\\site-packages (from indic-nlp-library) (1.26.3)\n",
      "Requirement already satisfied: python-dateutil>=2.8.2 in c:\\users\\dell\\anaconda3\\lib\\site-packages (from pandas->indic-nlp-library) (2.9.0.post0)\n",
      "Requirement already satisfied: pytz>=2020.1 in c:\\users\\dell\\anaconda3\\lib\\site-packages (from pandas->indic-nlp-library) (2024.1)\n",
      "Requirement already satisfied: tzdata>=2022.7 in c:\\users\\dell\\anaconda3\\lib\\site-packages (from pandas->indic-nlp-library) (2023.3)\n",
      "Requirement already satisfied: sphinx>=5.1.0 in c:\\users\\dell\\anaconda3\\lib\\site-packages (from sphinx-argparse->indic-nlp-library) (7.3.7)\n",
      "Requirement already satisfied: docutils>=0.19 in c:\\users\\dell\\anaconda3\\lib\\site-packages (from sphinx-argparse->indic-nlp-library) (0.21.2)\n",
      "Requirement already satisfied: sphinxcontrib-jquery<5,>=4 in c:\\users\\dell\\anaconda3\\lib\\site-packages (from sphinx-rtd-theme->indic-nlp-library) (4.1)\n",
      "Requirement already satisfied: six>=1.5 in c:\\users\\dell\\anaconda3\\lib\\site-packages (from python-dateutil>=2.8.2->pandas->indic-nlp-library) (1.16.0)\n",
      "Requirement already satisfied: sphinxcontrib-applehelp in c:\\users\\dell\\anaconda3\\lib\\site-packages (from sphinx>=5.1.0->sphinx-argparse->indic-nlp-library) (1.0.2)\n",
      "Requirement already satisfied: sphinxcontrib-devhelp in c:\\users\\dell\\anaconda3\\lib\\site-packages (from sphinx>=5.1.0->sphinx-argparse->indic-nlp-library) (1.0.2)\n",
      "Requirement already satisfied: sphinxcontrib-jsmath in c:\\users\\dell\\anaconda3\\lib\\site-packages (from sphinx>=5.1.0->sphinx-argparse->indic-nlp-library) (1.0.1)\n",
      "Requirement already satisfied: sphinxcontrib-htmlhelp>=2.0.0 in c:\\users\\dell\\anaconda3\\lib\\site-packages (from sphinx>=5.1.0->sphinx-argparse->indic-nlp-library) (2.0.0)\n",
      "Requirement already satisfied: sphinxcontrib-serializinghtml>=1.1.9 in c:\\users\\dell\\anaconda3\\lib\\site-packages (from sphinx>=5.1.0->sphinx-argparse->indic-nlp-library) (1.1.10)\n",
      "Requirement already satisfied: sphinxcontrib-qthelp in c:\\users\\dell\\anaconda3\\lib\\site-packages (from sphinx>=5.1.0->sphinx-argparse->indic-nlp-library) (1.0.3)\n",
      "Requirement already satisfied: Jinja2>=3.0 in c:\\users\\dell\\anaconda3\\lib\\site-packages (from sphinx>=5.1.0->sphinx-argparse->indic-nlp-library) (3.1.4)\n",
      "Requirement already satisfied: Pygments>=2.14 in c:\\users\\dell\\anaconda3\\lib\\site-packages (from sphinx>=5.1.0->sphinx-argparse->indic-nlp-library) (2.15.1)\n",
      "Requirement already satisfied: snowballstemmer>=2.0 in c:\\users\\dell\\anaconda3\\lib\\site-packages (from sphinx>=5.1.0->sphinx-argparse->indic-nlp-library) (2.2.0)\n",
      "Requirement already satisfied: babel>=2.9 in c:\\users\\dell\\anaconda3\\lib\\site-packages (from sphinx>=5.1.0->sphinx-argparse->indic-nlp-library) (2.11.0)\n",
      "Requirement already satisfied: alabaster~=0.7.14 in c:\\users\\dell\\anaconda3\\lib\\site-packages (from sphinx>=5.1.0->sphinx-argparse->indic-nlp-library) (0.7.16)\n",
      "Requirement already satisfied: imagesize>=1.3 in c:\\users\\dell\\anaconda3\\lib\\site-packages (from sphinx>=5.1.0->sphinx-argparse->indic-nlp-library) (1.4.1)\n",
      "Requirement already satisfied: requests>=2.25.0 in c:\\users\\dell\\anaconda3\\lib\\site-packages (from sphinx>=5.1.0->sphinx-argparse->indic-nlp-library) (2.32.3)\n",
      "Requirement already satisfied: packaging>=21.0 in c:\\users\\dell\\anaconda3\\lib\\site-packages (from sphinx>=5.1.0->sphinx-argparse->indic-nlp-library) (23.2)\n",
      "Requirement already satisfied: colorama>=0.4.5 in c:\\users\\dell\\anaconda3\\lib\\site-packages (from sphinx>=5.1.0->sphinx-argparse->indic-nlp-library) (0.4.6)\n",
      "Requirement already satisfied: MarkupSafe>=2.0 in c:\\users\\dell\\anaconda3\\lib\\site-packages (from Jinja2>=3.0->sphinx>=5.1.0->sphinx-argparse->indic-nlp-library) (2.1.3)\n",
      "Requirement already satisfied: charset-normalizer<4,>=2 in c:\\users\\dell\\anaconda3\\lib\\site-packages (from requests>=2.25.0->sphinx>=5.1.0->sphinx-argparse->indic-nlp-library) (2.0.4)\n",
      "Requirement already satisfied: idna<4,>=2.5 in c:\\users\\dell\\anaconda3\\lib\\site-packages (from requests>=2.25.0->sphinx>=5.1.0->sphinx-argparse->indic-nlp-library) (3.7)\n",
      "Requirement already satisfied: urllib3<3,>=1.21.1 in c:\\users\\dell\\anaconda3\\lib\\site-packages (from requests>=2.25.0->sphinx>=5.1.0->sphinx-argparse->indic-nlp-library) (2.2.2)\n",
      "Requirement already satisfied: certifi>=2017.4.17 in c:\\users\\dell\\anaconda3\\lib\\site-packages (from requests>=2.25.0->sphinx>=5.1.0->sphinx-argparse->indic-nlp-library) (2024.12.14)\n",
      "Note: you may need to restart the kernel to use updated packages.\n"
     ]
    }
   ],
   "source": [
    "pip install indic-nlp-library\n"
   ]
  },
  {
   "cell_type": "code",
   "execution_count": 59,
   "metadata": {},
   "outputs": [
    {
     "name": "stderr",
     "output_type": "stream",
     "text": [
      "[nltk_data] Downloading package punkt to\n",
      "[nltk_data]     C:\\Users\\dell\\AppData\\Roaming\\nltk_data...\n",
      "[nltk_data]   Package punkt is already up-to-date!\n"
     ]
    },
    {
     "name": "stdout",
     "output_type": "stream",
     "text": [
      "Index(['Unique ID', 'Post', 'Labels Set', 'Preprocessed_Post', 'Label'], dtype='object')\n"
     ]
    },
    {
     "name": "stdin",
     "output_type": "stream",
     "text": [
      "Enter the comment:  उसने मेरे बारे में झूठी बातें फैलाईं, जिससे मेरी प्रतिष्ठा को नुकसान पहुँचा। मैंने कभी ऐसा कुछ नहीं कहा, लेकिन उसने मेरी छवि खराब करने के लिए जानबूझकर अफवाहें फैलाईं।\n"
     ]
    },
    {
     "name": "stdout",
     "output_type": "stream",
     "text": [
      "Predicted Label: non-hostile\n"
     ]
    }
   ],
   "source": [
    "import pandas as pd\n",
    "import re\n",
    "import string\n",
    "from sklearn.feature_extraction.text import TfidfVectorizer\n",
    "from sklearn.model_selection import train_test_split\n",
    "from sklearn.linear_model import LogisticRegression\n",
    "from nltk.tokenize import word_tokenize\n",
    "\n",
    "# Download necessary NLTK data\n",
    "import nltk\n",
    "nltk.download('punkt')\n",
    "\n",
    "# Load stopwords from CSV\n",
    "stopwords_df = pd.read_csv('hindi_stopwords.csv')\n",
    "stopwords_set = set(stopwords_df['stopword'].tolist())  # Adjust 'stopword' if needed\n",
    "\n",
    "# Function to preprocess text\n",
    "def preprocess_text(text):\n",
    "    # Remove emojis and special characters\n",
    "    text = re.sub(r'[^\\w\\s]', '', text)\n",
    "    # Remove links starting with 'https'\n",
    "    text = re.sub(r'https?:\\/\\/.*[\\r\\n]*', '', text)\n",
    "    # Remove English words (assuming only Hindi text is desired)  text = re.sub(r'[a-zA-Z]+', '', text)\n",
    "    # Remove numeric values\n",
    "    text = re.sub(r'\\d+', '', text)\n",
    "    # Tokenization using NLTK\n",
    "    tokens = word_tokenize(text, language='english')\n",
    "\n",
    "    # Remove stopwords\n",
    "    tokens = [word for word in tokens if word not in stopwords_set]\n",
    "    # Remove punctuation\n",
    "    tokens = [word for word in tokens if word not in string.punctuation]\n",
    "    # Convert to lowercase\n",
    "    tokens = [word.lower() for word in tokens]\n",
    "    # Join tokens back to text\n",
    "    preprocessed_text = ' '.join(tokens)\n",
    "    return preprocessed_text\n",
    "\n",
    "# Define reverse mapping dictionary for labels\n",
    "reverse_sentiment_mapping = {\n",
    "    1: 'defamation',\n",
    "    2: 'fake',\n",
    "    3: 'hate',\n",
    "    4: 'non-hostile',\n",
    "    5: 'offensive',\n",
    "    6: 'multiple'  # Label for comments with multiple sentiments\n",
    "}\n",
    "\n",
    "# Load the preprocessed data\n",
    "df = pd.read_csv(\"Preprocessed_HindiComments.csv\")\n",
    "\n",
    "# Ensure the correct columns are present\n",
    "print(df.columns)\n",
    "\n",
    "# Handle missing values\n",
    "df['Preprocessed_Post'] = df['Preprocessed_Post'].fillna(\"\") # Split the data into features and labels\n",
    "X = df['Preprocessed_Post']\n",
    "y = df['Label']\n",
    "\n",
    "# Initialize TfidfVectorizer\n",
    "tfidf_vectorizer = TfidfVectorizer()\n",
    "# Fit and transform the text data\n",
    "X_tfidf = tfidf_vectorizer.fit_transform(X)\n",
    "\n",
    "# Split data into train and test sets\n",
    "X_train, X_test, y_train, y_test = train_test_split(X_tfidf, y, test_size=0.2, random_state=42)\n",
    "\n",
    "# Train logistic regression model\n",
    "lr_model = LogisticRegression(max_iter=1000)\n",
    "lr_model.fit(X_train, y_train)\n",
    "\n",
    "# Load a new comment\n",
    "new_comment = input(\"Enter the comment: \")\n",
    "\n",
    "# Preprocess the new comment\n",
    "preprocessed_new_comment = preprocess_text(new_comment)\n",
    "\n",
    "# Transform the preprocessed comment using the TfidfVectorizer\n",
    "X_new_comment = tfidf_vectorizer.transform([preprocessed_new_comment])\n",
    "\n",
    "# Predict the label of the new comment\n",
    "predicted_label_encoded = lr_model.predict(X_new_comment)\n",
    "predicted_label_name = reverse_sentiment_mapping.get(predicted_label_encoded[0], 'unknown')\n",
    "\n",
    "print(\"Predicted Label:\", predicted_label_name) "
   ]
  },
  {
   "cell_type": "code",
   "execution_count": null,
   "metadata": {},
   "outputs": [],
   "source": []
  }
 ],
 "metadata": {
  "colab": {
   "provenance": []
  },
  "kernelspec": {
   "display_name": "Python 3 (ipykernel)",
   "language": "python",
   "name": "python3"
  },
  "language_info": {
   "codemirror_mode": {
    "name": "ipython",
    "version": 3
   },
   "file_extension": ".py",
   "mimetype": "text/x-python",
   "name": "python",
   "nbconvert_exporter": "python",
   "pygments_lexer": "ipython3",
   "version": "3.12.4"
  }
 },
 "nbformat": 4,
 "nbformat_minor": 4
}
